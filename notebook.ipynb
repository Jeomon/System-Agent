{
 "cells": [
  {
   "cell_type": "code",
   "execution_count": 1,
   "metadata": {},
   "outputs": [
    {
     "name": "stdout",
     "output_type": "stream",
     "text": [
      "<Win32Window left=\"888\", top=\"200\", width=\"918\", height=\"972\", title=\"● notebook.ipynb - System-Agent - Visual Studio Code\">\n",
      "<Win32Window left=\"-9\", top=\"-9\", width=\"1938\", height=\"1038\", title=\"Vision Transformers: How and why they work? - YouTube and 1 more page - Personal - Microsoft​ Edge\">\n",
      "<Win32Window left=\"0\", top=\"9\", width=\"1920\", height=\"1020\", title=\"Movies & TV\">\n",
      "<Win32Window left=\"-9\", top=\"-9\", width=\"1938\", height=\"1038\", title=\"Movies & TV\">\n",
      "<Win32Window left=\"0\", top=\"9\", width=\"1920\", height=\"1020\", title=\"Settings\">\n",
      "<Win32Window left=\"-9\", top=\"-9\", width=\"1938\", height=\"1038\", title=\"Settings\">\n",
      "<Win32Window left=\"0\", top=\"0\", width=\"1920\", height=\"1080\", title=\"Windows Input Experience\">\n",
      "<Win32Window left=\"0\", top=\"0\", width=\"1920\", height=\"1080\", title=\"NVIDIA GeForce Overlay\">\n",
      "<Win32Window left=\"0\", top=\"0\", width=\"1920\", height=\"1080\", title=\"Program Manager\">\n"
     ]
    }
   ],
   "source": [
    "from src.agent.system.desktop import Desktop\n",
    "\n",
    "desktop=Desktop()\n",
    "for app in desktop.get_windows_in_z_order():\n",
    "    print(app)"
   ]
  }
 ],
 "metadata": {
  "kernelspec": {
   "display_name": ".venv",
   "language": "python",
   "name": "python3"
  },
  "language_info": {
   "codemirror_mode": {
    "name": "ipython",
    "version": 3
   },
   "file_extension": ".py",
   "mimetype": "text/x-python",
   "name": "python",
   "nbconvert_exporter": "python",
   "pygments_lexer": "ipython3",
   "version": "3.12.8"
  }
 },
 "nbformat": 4,
 "nbformat_minor": 2
}
