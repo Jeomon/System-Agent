{
 "cells": [
  {
   "cell_type": "code",
   "execution_count": 1,
   "metadata": {},
   "outputs": [
    {
     "name": "stdout",
     "output_type": "stream",
     "text": [
      "Foreground window handle: 1638466\n"
     ]
    },
    {
     "data": {
      "text/plain": [
       "1"
      ]
     },
     "execution_count": 1,
     "metadata": {},
     "output_type": "execute_result"
    }
   ],
   "source": [
    "import ctypes\n",
    "from ctypes import wintypes\n",
    "\n",
    "user32 = ctypes.WinDLL('user32', use_last_error=True)\n",
    "\n",
    "# Define RECT structure\n",
    "class RECT(ctypes.Structure):\n",
    "    _fields_ = [(\"left\", wintypes.LONG),\n",
    "                (\"top\", wintypes.LONG),\n",
    "                (\"right\", wintypes.LONG),\n",
    "                (\"bottom\", wintypes.LONG)]\n",
    "\n",
    "# Function to get the foreground window\n",
    "GetForegroundWindow = user32.GetForegroundWindow\n",
    "GetForegroundWindow.restype = wintypes.HWND\n",
    "\n",
    "# Function to set the foreground window\n",
    "SetForegroundWindow = user32.SetForegroundWindow\n",
    "SetForegroundWindow.argtypes = [wintypes.HWND]\n",
    "SetForegroundWindow.restype = wintypes.BOOL\n",
    "\n",
    "# Example usage\n",
    "hwnd = GetForegroundWindow()\n",
    "print(f\"Foreground window handle: {hwnd}\")\n",
    "SetForegroundWindow(hwnd)\n"
   ]
  }
 ],
 "metadata": {
  "kernelspec": {
   "display_name": ".venv",
   "language": "python",
   "name": "python3"
  },
  "language_info": {
   "codemirror_mode": {
    "name": "ipython",
    "version": 3
   },
   "file_extension": ".py",
   "mimetype": "text/x-python",
   "name": "python",
   "nbconvert_exporter": "python",
   "pygments_lexer": "ipython3",
   "version": "3.12.7"
  }
 },
 "nbformat": 4,
 "nbformat_minor": 2
}
