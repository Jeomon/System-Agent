{
 "cells": [
  {
   "cell_type": "code",
   "execution_count": 1,
   "metadata": {},
   "outputs": [],
   "source": [
    "from src.inference.gemini import ChatGemini\n",
    "from src.message import SystemMessage,HumanMessage,ImageMessage\n",
    "from dotenv import load_dotenv\n",
    "import os\n",
    "\n",
    "load_dotenv()\n",
    "api_key=os.getenv('GOOGLE_API_KEY')\n",
    "llm=ChatGemini(model='gemini-2.0-flash-thinking-exp-01-21',api_key=api_key,temperature=0)\n",
    "# llm=ChatGemini(model='gemini-2.0-flash-exp',api_key=api_key,temperature=0)"
   ]
  },
  {
   "cell_type": "code",
   "execution_count": 3,
   "metadata": {},
   "outputs": [
    {
     "data": {
      "text/plain": [
       "AIMessage(role=assistant, content=The label of the tile where you can click on wifi is **`60**.)"
      ]
     },
     "execution_count": 3,
     "metadata": {},
     "output_type": "execute_result"
    }
   ],
   "source": [
    "# prompt='''\n",
    "# You are Screen Reader. You will be given the screenshot of the screen and you will be asked to give the cordinate of the element in the screenshot.\n",
    "# The screenshot is embbed with a grid of square tiles that 8x8. The space between two lines in the grid is seen as a column or a row.\n",
    "# The location of a tile is deplicted by the number of rows and columns. So (i,j) means the tile is located at row i and column j.\n",
    "# '''\n",
    "\n",
    "prompt='''\n",
    "You are Screen Reader. You will be given the screenshot of the screen and you will be asked to give the label of the tile in the screenshot.\n",
    "The label is located inside the tile on the top left corner.\n",
    "'''\n",
    "\n",
    "messages=[\n",
    "    SystemMessage(prompt),\n",
    "    ImageMessage(image_path='./output.png',text='Give me the label of the tile in the screenshot where you can click on wifi')\n",
    "]\n",
    "\n",
    "llm.invoke(messages)"
   ]
  }
 ],
 "metadata": {
  "kernelspec": {
   "display_name": ".venv",
   "language": "python",
   "name": "python3"
  },
  "language_info": {
   "codemirror_mode": {
    "name": "ipython",
    "version": 3
   },
   "file_extension": ".py",
   "mimetype": "text/x-python",
   "name": "python",
   "nbconvert_exporter": "python",
   "pygments_lexer": "ipython3",
   "version": "3.12.8"
  }
 },
 "nbformat": 4,
 "nbformat_minor": 2
}
